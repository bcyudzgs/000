{
 "cells": [
  {
   "cell_type": "code",
   "execution_count": 1,
   "id": "fdae9ab6",
   "metadata": {},
   "outputs": [],
   "source": [
    "import cv2\n",
    "import time\n",
    "import numpy as np\n",
    "cap = cv2.VideoCapture(0)\n",
    "ratio = cap.get(cv2.CAP_PROP_FRAME_WIDTH) / cap.get(cv2.CAP_PROP_FRAME_HEIGHT)\n",
    "WIDTH = 600\n",
    "HEIGHT = int(WIDTH/ratio)\n",
    "num = 3\n",
    "now = 0\n",
    "count = 0\n",
    "start = False\n",
    "\n",
    "cv2.namedWindow('me',cv2.WINDOW_NORMAL)\n",
    "\n",
    "ret = True\n",
    "while ret:\n",
    "    ret, frame = cap.read()\n",
    "    frame = cv2.resize(frame, (WIDTH, HEIGHT))\n",
    "    frame = cv2.flip(frame, 1)\n",
    "    if cv2.waitKey(1) == ord(' '):\n",
    "        now = int(time.time()+0.5)\n",
    "        start =True\n",
    "    if start:\n",
    "        cv2.putText(frame, str(num), (260,290), cv2.FONT_HERSHEY_SIMPLEX, 5, (0,0,0), 5, cv2.LINE_AA)\n",
    "    if start and int(time.time()) - now == 1:\n",
    "        now = int(time.time())\n",
    "        num -= 1\n",
    "    if start and num == 0:\n",
    "        count += 1\n",
    "        ret, frame = cap.read()\n",
    "        frame = cv2.resize(frame, (WIDTH, HEIGHT))\n",
    "        frame = cv2.flip(frame, 1)\n",
    "        cv2.imwrite(\"image\" + count + \".jpeg\", frame)\n",
    "        frame = np.zeros((600,600,3), dtype = np.uint8)\n",
    "        frame.fill(255)\n",
    "        num = 3\n",
    "        start = False\n",
    "    \n",
    "    cv2.imshow('me', frame)\n",
    "    \n",
    "    if cv2.waitKey(1) == ord('p'):\n",
    "        for i in range(100):\n",
    "            ret, frame = cap.read()\n",
    "            frame = cv2.resize(frame, (WIDTH, HEIGHT))\n",
    "            frame = cv2.flip(frame, 1)\n",
    "            cv2.imwrite(\"images\" + i + \".jpeg\", frame)\n",
    "    if cv2.waitKey(1) == 27:\n",
    "        break\n",
    "    \n",
    "cv2.destroyAllWindows()\n",
    "cap.release()"
   ]
  },
  {
   "cell_type": "code",
   "execution_count": null,
   "id": "9cede78b",
   "metadata": {},
   "outputs": [],
   "source": []
  }
 ],
 "metadata": {
  "kernelspec": {
   "display_name": "Python 3",
   "language": "python",
   "name": "python3"
  },
  "language_info": {
   "codemirror_mode": {
    "name": "ipython",
    "version": 3
   },
   "file_extension": ".py",
   "mimetype": "text/x-python",
   "name": "python",
   "nbconvert_exporter": "python",
   "pygments_lexer": "ipython3",
   "version": "3.8.8"
  }
 },
 "nbformat": 4,
 "nbformat_minor": 5
}
