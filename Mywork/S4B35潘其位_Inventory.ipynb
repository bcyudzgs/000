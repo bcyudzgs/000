{
 "cells": [
  {
   "cell_type": "code",
   "execution_count": 6,
   "id": "e528348c",
   "metadata": {},
   "outputs": [
    {
     "name": "stdout",
     "output_type": "stream",
     "text": [
      "Item No.: 1\n",
      "Item Name: 1\n",
      "Amount of item: 1\n",
      "Item No.: 1\n",
      "Item No.: 1; Item Name: 1; Amount of item: 1\n",
      "Amount of item: 1\n",
      "Item No.: 1\n",
      "Item No.: 1; Item Name: 1; Amount of item: 2\n",
      "Amount of item: 1\n",
      "Item No.: 1\n",
      "Item No.: 1; Item Name: 1; Amount of item: 3\n",
      "Amount of item: 1\n",
      "Item No.: FFF\n"
     ]
    }
   ],
   "source": [
    "inventory = {}\n",
    "while True:\n",
    "    item_no = input(\"Item No.: \")\n",
    "    if item_no == \"FFF\":\n",
    "        break\n",
    "    else:\n",
    "        data = inventory.get(item_no, [])\n",
    "        if data == []:\n",
    "            data.append(input(\"Item Name: \"))\n",
    "            data.append(int(input(\"Amount of item: \")))\n",
    "            inventory[item_no] = data\n",
    "        else:\n",
    "            print(\"Item No.: \" + item_no + \"; Item Name: \" + data[0] + \"; Amount of item: \" + str(data[1]))\n",
    "            data[1] += int(input(\"Amount of item: \"))\n",
    "            inventory[item_no] = data"
   ]
  },
  {
   "cell_type": "code",
   "execution_count": null,
   "id": "81f5b1c3",
   "metadata": {},
   "outputs": [],
   "source": []
  }
 ],
 "metadata": {
  "kernelspec": {
   "display_name": "Python 3",
   "language": "python",
   "name": "python3"
  },
  "language_info": {
   "codemirror_mode": {
    "name": "ipython",
    "version": 3
   },
   "file_extension": ".py",
   "mimetype": "text/x-python",
   "name": "python",
   "nbconvert_exporter": "python",
   "pygments_lexer": "ipython3",
   "version": "3.8.8"
  }
 },
 "nbformat": 4,
 "nbformat_minor": 5
}
