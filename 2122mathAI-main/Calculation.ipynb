{
 "cells": [
  {
   "cell_type": "markdown",
   "id": "30b59d49",
   "metadata": {},
   "source": [
    "# Power\n",
    "a**b"
   ]
  },
  {
   "cell_type": "code",
   "execution_count": 3,
   "id": "0e06761b",
   "metadata": {},
   "outputs": [
    {
     "data": {
      "text/plain": [
       "125"
      ]
     },
     "execution_count": 3,
     "metadata": {},
     "output_type": "execute_result"
    }
   ],
   "source": [
    "5**3"
   ]
  },
  {
   "cell_type": "markdown",
   "id": "006ecc74",
   "metadata": {},
   "source": [
    "# Division"
   ]
  },
  {
   "cell_type": "code",
   "execution_count": 2,
   "id": "746ecb67",
   "metadata": {},
   "outputs": [
    {
     "data": {
      "text/plain": [
       "1.5"
      ]
     },
     "execution_count": 2,
     "metadata": {},
     "output_type": "execute_result"
    }
   ],
   "source": [
    "3/2"
   ]
  },
  {
   "cell_type": "code",
   "execution_count": 3,
   "id": "76af99a7",
   "metadata": {},
   "outputs": [
    {
     "data": {
      "text/plain": [
       "1"
      ]
     },
     "execution_count": 3,
     "metadata": {},
     "output_type": "execute_result"
    }
   ],
   "source": [
    "9//5"
   ]
  },
  {
   "cell_type": "markdown",
   "id": "5ffcb5c1",
   "metadata": {},
   "source": [
    "# Modulo"
   ]
  },
  {
   "cell_type": "code",
   "execution_count": 4,
   "id": "1d953151",
   "metadata": {},
   "outputs": [
    {
     "data": {
      "text/plain": [
       "2"
      ]
     },
     "execution_count": 4,
     "metadata": {},
     "output_type": "execute_result"
    }
   ],
   "source": [
    "2 % 5"
   ]
  },
  {
   "cell_type": "code",
   "execution_count": 5,
   "id": "6f25924f",
   "metadata": {},
   "outputs": [
    {
     "data": {
      "text/plain": [
       "4"
      ]
     },
     "execution_count": 5,
     "metadata": {},
     "output_type": "execute_result"
    }
   ],
   "source": [
    "564 % 7"
   ]
  },
  {
   "cell_type": "markdown",
   "id": "6d12ac79",
   "metadata": {},
   "source": [
    "# Cal. by myself"
   ]
  },
  {
   "cell_type": "code",
   "execution_count": 1,
   "id": "787cad6e",
   "metadata": {},
   "outputs": [],
   "source": [
    "a = 3"
   ]
  },
  {
   "cell_type": "code",
   "execution_count": 3,
   "id": "7120ec3c",
   "metadata": {},
   "outputs": [
    {
     "name": "stdout",
     "output_type": "stream",
     "text": [
      "5\n"
     ]
    }
   ],
   "source": [
    "a += 1\n",
    "print(a)"
   ]
  },
  {
   "cell_type": "markdown",
   "id": "3fcd950b",
   "metadata": {},
   "source": [
    "## The same of * / %"
   ]
  },
  {
   "cell_type": "code",
   "execution_count": 8,
   "id": "688f82de",
   "metadata": {},
   "outputs": [
    {
     "name": "stdout",
     "output_type": "stream",
     "text": [
      "2\n"
     ]
    }
   ],
   "source": [
    "a -= 2\n",
    "print(a)"
   ]
  },
  {
   "cell_type": "markdown",
   "id": "9594c44d",
   "metadata": {},
   "source": [
    "---\n",
    "# Funny String"
   ]
  },
  {
   "cell_type": "code",
   "execution_count": 9,
   "id": "41e52b50",
   "metadata": {},
   "outputs": [
    {
     "name": "stdout",
     "output_type": "stream",
     "text": [
      "abcefg\n"
     ]
    }
   ],
   "source": [
    "my_str = \"abc\" + \"efg\"\n",
    "print(my_str)"
   ]
  },
  {
   "cell_type": "code",
   "execution_count": 4,
   "id": "b1c37a52",
   "metadata": {},
   "outputs": [],
   "source": [
    "my_str = \"I want to sho \\\"\""
   ]
  },
  {
   "cell_type": "code",
   "execution_count": 5,
   "id": "dc8e10e9",
   "metadata": {},
   "outputs": [
    {
     "name": "stdout",
     "output_type": "stream",
     "text": [
      "I want to sho \"\n"
     ]
    }
   ],
   "source": [
    "print(my_str)"
   ]
  },
  {
   "cell_type": "code",
   "execution_count": 13,
   "id": "972c35b7",
   "metadata": {},
   "outputs": [],
   "source": [
    "my_line_str = \"\"\"Oh...\n",
    "\n",
    "\n",
    "Hi\"\"\""
   ]
  },
  {
   "cell_type": "code",
   "execution_count": 14,
   "id": "7e09355f",
   "metadata": {},
   "outputs": [
    {
     "name": "stdout",
     "output_type": "stream",
     "text": [
      "Oh...\n",
      "\n",
      "\n",
      "Hi\n"
     ]
    }
   ],
   "source": [
    "print(my_line_str)"
   ]
  },
  {
   "cell_type": "code",
   "execution_count": 15,
   "id": "39e22424",
   "metadata": {},
   "outputs": [
    {
     "name": "stdout",
     "output_type": "stream",
     "text": [
      "Hey youHey youHey you\n"
     ]
    }
   ],
   "source": [
    "my_str = \"Hey you\" * 3\n",
    "print(my_str)"
   ]
  },
  {
   "cell_type": "code",
   "execution_count": 16,
   "id": "2e161ca4",
   "metadata": {},
   "outputs": [
    {
     "name": "stdout",
     "output_type": "stream",
     "text": [
      "y yo\n"
     ]
    }
   ],
   "source": [
    "print(my_str[2:6])"
   ]
  },
  {
   "cell_type": "code",
   "execution_count": 17,
   "id": "a792a137",
   "metadata": {},
   "outputs": [
    {
     "name": "stdout",
     "output_type": "stream",
     "text": [
      "Hey youHey youHey you\n"
     ]
    }
   ],
   "source": [
    "print(my_str[:])"
   ]
  },
  {
   "cell_type": "code",
   "execution_count": 18,
   "id": "6a2ba6b5",
   "metadata": {},
   "outputs": [
    {
     "name": "stdout",
     "output_type": "stream",
     "text": [
      "ouHey youHey you\n"
     ]
    }
   ],
   "source": [
    "print(my_str[5:])"
   ]
  },
  {
   "cell_type": "code",
   "execution_count": 19,
   "id": "ce80529f",
   "metadata": {},
   "outputs": [
    {
     "name": "stdout",
     "output_type": "stream",
     "text": [
      "Hey you\n"
     ]
    }
   ],
   "source": [
    "print(my_str[:7])"
   ]
  },
  {
   "cell_type": "code",
   "execution_count": null,
   "id": "96d14822",
   "metadata": {},
   "outputs": [],
   "source": [
    "print(my_str[-1])"
   ]
  },
  {
   "cell_type": "code",
   "execution_count": 20,
   "id": "3b2c232c",
   "metadata": {},
   "outputs": [
    {
     "name": "stdout",
     "output_type": "stream",
     "text": [
      "Hey youHey youHey y\n"
     ]
    }
   ],
   "source": [
    "print(my_str[:-2])"
   ]
  },
  {
   "cell_type": "code",
   "execution_count": null,
   "id": "12eade90",
   "metadata": {},
   "outputs": [],
   "source": []
  }
 ],
 "metadata": {
  "kernelspec": {
   "display_name": "Python 3",
   "language": "python",
   "name": "python3"
  },
  "language_info": {
   "codemirror_mode": {
    "name": "ipython",
    "version": 3
   },
   "file_extension": ".py",
   "mimetype": "text/x-python",
   "name": "python",
   "nbconvert_exporter": "python",
   "pygments_lexer": "ipython3",
   "version": "3.8.8"
  }
 },
 "nbformat": 4,
 "nbformat_minor": 5
}
