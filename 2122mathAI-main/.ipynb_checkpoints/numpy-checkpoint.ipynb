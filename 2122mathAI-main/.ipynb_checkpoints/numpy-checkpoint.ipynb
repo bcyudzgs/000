{
 "cells": [
  {
   "cell_type": "markdown",
   "id": "be59a818",
   "metadata": {},
   "source": [
    "# Import a useful library \"numpy\"\n",
    "we always import numpy as np"
   ]
  },
  {
   "cell_type": "code",
   "execution_count": null,
   "id": "63dafb06",
   "metadata": {},
   "outputs": [],
   "source": [
    "import numpy as np"
   ]
  },
  {
   "cell_type": "markdown",
   "id": "a84d015a",
   "metadata": {},
   "source": [
    "## How do we calculate the average?"
   ]
  },
  {
   "cell_type": "code",
   "execution_count": null,
   "id": "cf51f5f8",
   "metadata": {},
   "outputs": [],
   "source": [
    "grades = [56, 80, 95, 74, 83]"
   ]
  },
  {
   "cell_type": "code",
   "execution_count": null,
   "id": "e05166d7",
   "metadata": {
    "scrolled": true
   },
   "outputs": [],
   "source": [
    "avg_grades = 0\n",
    "for i in grades:\n",
    "    avg_grades += i\n",
    "print(\"average = %.2f\" %(avg_grades/len(grades))) # %.2 means 2 decimal places."
   ]
  },
  {
   "cell_type": "markdown",
   "id": "39d758af",
   "metadata": {},
   "source": [
    "# numpy can make it simple"
   ]
  },
  {
   "cell_type": "code",
   "execution_count": null,
   "id": "8e77644d",
   "metadata": {},
   "outputs": [],
   "source": [
    "grades = [56, 80, 95, 74, 83]\n",
    "arr_grades = np.array(grades)"
   ]
  },
  {
   "cell_type": "code",
   "execution_count": null,
   "id": "61214307",
   "metadata": {},
   "outputs": [],
   "source": [
    "arr_grades.mean() # average"
   ]
  },
  {
   "cell_type": "code",
   "execution_count": null,
   "id": "46e28c14",
   "metadata": {},
   "outputs": [],
   "source": [
    "arr_grades.max() # maximum"
   ]
  },
  {
   "cell_type": "code",
   "execution_count": null,
   "id": "d4758713",
   "metadata": {},
   "outputs": [],
   "source": [
    "arr_grades.std() # standard deviation"
   ]
  },
  {
   "cell_type": "markdown",
   "id": "63118c01",
   "metadata": {},
   "source": [
    "[more information click here](https://numpy.org/doc/stable/user/absolute_beginners.html#more-useful-array-operations)"
   ]
  },
  {
   "cell_type": "markdown",
   "id": "10ed175a",
   "metadata": {},
   "source": [
    "# Numpy can reate a list too"
   ]
  },
  {
   "cell_type": "code",
   "execution_count": null,
   "id": "12903934",
   "metadata": {},
   "outputs": [],
   "source": [
    "a = np.arange(0, 10, 0.1)"
   ]
  },
  {
   "cell_type": "code",
   "execution_count": null,
   "id": "5f472f43",
   "metadata": {},
   "outputs": [],
   "source": [
    "print(a)"
   ]
  },
  {
   "cell_type": "code",
   "execution_count": null,
   "id": "c457fab6",
   "metadata": {},
   "outputs": [],
   "source": [
    "b = np.linspace(0, 10, 100)"
   ]
  },
  {
   "cell_type": "code",
   "execution_count": null,
   "id": "d4c88210",
   "metadata": {},
   "outputs": [],
   "source": [
    "b"
   ]
  },
  {
   "cell_type": "markdown",
   "id": "d9df55df",
   "metadata": {},
   "source": [
    "# Find something we want"
   ]
  },
  {
   "cell_type": "code",
   "execution_count": null,
   "id": "141d8320",
   "metadata": {},
   "outputs": [],
   "source": [
    "L = np.array([3, -2, 1, 0, 5, 9])"
   ]
  },
  {
   "cell_type": "markdown",
   "id": "dd9a1ecb",
   "metadata": {},
   "source": [
    "We can do it by ourself"
   ]
  },
  {
   "cell_type": "code",
   "execution_count": null,
   "id": "6b9844fb",
   "metadata": {},
   "outputs": [],
   "source": [
    "c = np.array([True, False, False, False, True, True])"
   ]
  },
  {
   "cell_type": "code",
   "execution_count": null,
   "id": "3bb5eda1",
   "metadata": {},
   "outputs": [],
   "source": [
    "L[c]"
   ]
  },
  {
   "cell_type": "markdown",
   "id": "3b5e62e9",
   "metadata": {},
   "source": [
    "or let the computer do it"
   ]
  },
  {
   "cell_type": "code",
   "execution_count": null,
   "id": "a83957a5",
   "metadata": {},
   "outputs": [],
   "source": [
    "L > 2"
   ]
  },
  {
   "cell_type": "code",
   "execution_count": null,
   "id": "ef88c97b",
   "metadata": {},
   "outputs": [],
   "source": [
    "L[L>2]"
   ]
  },
  {
   "cell_type": "code",
   "execution_count": null,
   "id": "58488d36",
   "metadata": {},
   "outputs": [],
   "source": []
  }
 ],
 "metadata": {
  "kernelspec": {
   "display_name": "Python 3",
   "language": "python",
   "name": "python3"
  },
  "language_info": {
   "codemirror_mode": {
    "name": "ipython",
    "version": 3
   },
   "file_extension": ".py",
   "mimetype": "text/x-python",
   "name": "python",
   "nbconvert_exporter": "python",
   "pygments_lexer": "ipython3",
   "version": "3.8.8"
  }
 },
 "nbformat": 4,
 "nbformat_minor": 5
}
