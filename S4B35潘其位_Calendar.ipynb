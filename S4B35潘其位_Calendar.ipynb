{
 "cells": [
  {
   "cell_type": "code",
   "execution_count": 37,
   "id": "ec2a249c",
   "metadata": {},
   "outputs": [
    {
     "name": "stdout",
     "output_type": "stream",
     "text": [
      "Please type the calendar's year you want to know: 2020\n",
      "Please type the month you want to know: 3\n",
      "Sun.\tMon.\tTur.\tWed.\tThu.\tFri.\tSat.\n",
      "1\t2\t3\t4\t5\t6\t7\n",
      "8\t9\t10\t11\t12\t13\t14\n",
      "15\t16\t17\t18\t19\t20\t21\n",
      "22\t23\t24\t25\t26\t27\t28\n",
      "29\t30\t31\t \t \t \t \n"
     ]
    }
   ],
   "source": [
    "year = int(input('Please type the calendar\\'s year you want to know: '))\n",
    "month = int(input('Please type the month you want to know: '))\n",
    "leap = 0\n",
    "leaps = 0\n",
    "date = [0,3,3,-1,1,-3,-1,2,-2,0,3,-2]\n",
    "monthdate = [31,28,31,30,31,30,31,31,30,31,30,31]\n",
    "day = [' ',' ',' ',' ',' ',' ',' ',' ',' ',' ',' ',' ',' ',' ',' ',' ',' ',' ',' ',' ',' ',' ',' ',' ',' ',' ',' ',' ',' ',' ',' ',' ',' ',' ',' ',' ',' ',' ',' ',' ',' ',' ']\n",
    "firstdate = 0\n",
    "test = year\n",
    "num1 = 0\n",
    "num2 = 0\n",
    "\n",
    "if year % 4 == 0 and year % 100 != 0 and year != 0:\n",
    "    leaps = year / 4 - 1\n",
    "    leap = 1\n",
    "    date = [0,3,4,0,2,-2,0,3,-1,1,4,-1]\n",
    "    monthdate[1] = 29\n",
    "elif year % 400 == 0 and year % 3200 != 0 and year != 0:\n",
    "    if month > 2:\n",
    "        leaps = year / 4 + 1\n",
    "    else:\n",
    "        leaps = year / 4 - 1\n",
    "    leap = 1 \n",
    "    date = [0,3,4,0,2,-2,0,3,-1,1,4,-1]\n",
    "    monthdate[1] = 29\n",
    "else:\n",
    "        leaps = (year - year % 4) / 4 \n",
    "        leap = 0\n",
    "        \n",
    "while test >= 3200:\n",
    "    test -= 3200\n",
    "    num1 += 1\n",
    "while test >= 100:\n",
    "    test -= 100\n",
    "    if num2 == 3:\n",
    "        num2 = 0\n",
    "    else:\n",
    "        num1 += 1\n",
    "        num2 += 1\n",
    "\n",
    "firstdate = int(1 + leaps + date[month - 1] + year - num1 - 1)\n",
    "\n",
    "while firstdate < 1:\n",
    "    firstdate += 7\n",
    "while firstdate > 7:\n",
    "    firstdate -= 7\n",
    "    \n",
    "if year == 0:\n",
    "    firstdate = 1\n",
    "\n",
    "if year % 4 == 0 and year % 100 != 0:\n",
    "    monthdate[1] = 29\n",
    "elif year % 400 == 0 and year % 3200 != 0:\n",
    "    monthdate[1] = 29\n",
    "    \n",
    "if firstdate == 7:\n",
    "    firstdate = 0\n",
    "\n",
    "print('Sun.\\tMon.\\tTur.\\tWed.\\tThu.\\tFri.\\tSat.')\n",
    "for i in range(monthdate[month-1]):\n",
    "    day[firstdate + i] = str(1 + i)\n",
    "\n",
    "print(day[0]+'\\t'+day[1]+'\\t'+day[2]+'\\t'+day[3]+'\\t'+day[4]+'\\t'+day[5]+'\\t'+day[6])\n",
    "print(day[7]+'\\t'+day[8]+'\\t'+day[9]+'\\t'+day[10]+'\\t'+day[11]+'\\t'+day[12]+'\\t'+day[13])\n",
    "print(day[14]+'\\t'+day[15]+'\\t'+day[16]+'\\t'+day[17]+'\\t'+day[18]+'\\t'+day[19]+'\\t'+day[20])\n",
    "print(day[21]+'\\t'+day[22]+'\\t'+day[23]+'\\t'+day[24]+'\\t'+day[25]+'\\t'+day[26]+'\\t'+day[27])\n",
    "print(day[28]+'\\t'+day[29]+'\\t'+day[30]+'\\t'+day[31]+'\\t'+day[32]+'\\t'+day[33]+'\\t'+day[34])\n",
    "if firstdate != 0:\n",
    "    print(day[35]+'\\t'+day[36]+'\\t'+day[37]+'\\t'+day[38]+'\\t'+day[39]+'\\t'+day[40]+'\\t'+day[41])"
   ]
  },
  {
   "cell_type": "code",
   "execution_count": null,
   "id": "1ffc10dd",
   "metadata": {},
   "outputs": [],
   "source": []
  }
 ],
 "metadata": {
  "kernelspec": {
   "display_name": "Python 3",
   "language": "python",
   "name": "python3"
  },
  "language_info": {
   "codemirror_mode": {
    "name": "ipython",
    "version": 3
   },
   "file_extension": ".py",
   "mimetype": "text/x-python",
   "name": "python",
   "nbconvert_exporter": "python",
   "pygments_lexer": "ipython3",
   "version": "3.8.8"
  }
 },
 "nbformat": 4,
 "nbformat_minor": 5
}
