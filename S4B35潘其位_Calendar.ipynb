{
 "cells": [
  {
   "cell_type": "code",
   "execution_count": 7,
   "id": "ec2a249c",
   "metadata": {},
   "outputs": [
    {
     "name": "stdout",
     "output_type": "stream",
     "text": [
      "Please type the calendar's year you want to know: 2021\n",
      "Please type the month you want to know: 1\n",
      "Sun. \t Mon. \t Tur. \t Wed. \t Thu. \t Fri. \t Sat.\n",
      "\t \t \t \t \t 1\t 2\t \n",
      "3\t 4\t 5\t 6\t 7\t 8\t 9\t \n",
      "10\t 11\t 12\t 13\t 14\t 15\t 16\t \n",
      "17\t 18\t 19\t 20\t 21\t 22\t 23\t \n",
      "24\t 25\t 26\t 27\t 28\t 29\t 30\t \n",
      "31\t "
     ]
    }
   ],
   "source": [
    "year = int(input('Please type the calendar\\'s year you want to know: '))\n",
    "month = int(input('Please type the month you want to know: '))\n",
    "leaps = 0\n",
    "date = [0,3,3,-1,1,-3,-1,2,-2,0,3,-2]\n",
    "monthdate = [31,28,31,30,31,30,31,31,30,31,30,31]\n",
    "day = [' ']*42\n",
    "firstdate = 0\n",
    "test = year\n",
    "num1 = 0\n",
    "num2 = 0\n",
    "\n",
    "if year % 4 == 0 and year % 100 != 0 and year != 0:\n",
    "    leaps = year / 4 - 1\n",
    "    date = [0,3,4,0,2,-2,0,3,-1,1,4,-1]\n",
    "    monthdate[1] = 29\n",
    "elif year % 400 == 0 and year % 3200 != 0 and year != 0:\n",
    "    leaps = year / 4 - 1\n",
    "    date = [0,3,4,0,2,-2,0,3,-1,1,4,-1]\n",
    "    monthdate[1] = 29\n",
    "else:\n",
    "        leaps = (year - year % 4) / 4 \n",
    "        \n",
    "while test >= 3200:\n",
    "    test -= 3200\n",
    "    num1 += 1\n",
    "while test >= 100:\n",
    "    test -= 100\n",
    "    if num2 == 3:\n",
    "        num2 = 0\n",
    "    else:\n",
    "        num1 += 1\n",
    "        num2 += 1\n",
    "\n",
    "firstdate = int(1 + leaps + date[month - 1] + year - num1 - 1)\n",
    "\n",
    "while firstdate < 1:\n",
    "    firstdate += 7\n",
    "while firstdate > 7:\n",
    "    firstdate -= 7\n",
    "    \n",
    "if year == 0:\n",
    "    firstdate = 1\n",
    "\n",
    "if year % 4 == 0 and year % 100 != 0:\n",
    "    monthdate[1] = 29\n",
    "elif year % 400 == 0 and year % 3200 != 0:\n",
    "    monthdate[1] = 29\n",
    "    \n",
    "if firstdate == 7:\n",
    "    firstdate = 0\n",
    "\n",
    "print(\"Sun. \\t Mon. \\t Tur. \\t Wed. \\t Thu. \\t Fri. \\t Sat.\")\n",
    "print(\"\\t \"*firstdate, end = \"\")\n",
    "for i in range(1, monthdate[month-1] + 1):\n",
    "    print(str(i) + \"\\t \", end = \"\")\n",
    "    if (i + firstdate) % 7 == 0:\n",
    "        print(end = \"\\n\")"
   ]
  },
  {
   "cell_type": "code",
   "execution_count": null,
   "id": "a07cd222",
   "metadata": {},
   "outputs": [],
   "source": []
  }
 ],
 "metadata": {
  "kernelspec": {
   "display_name": "Python 3",
   "language": "python",
   "name": "python3"
  },
  "language_info": {
   "codemirror_mode": {
    "name": "ipython",
    "version": 3
   },
   "file_extension": ".py",
   "mimetype": "text/x-python",
   "name": "python",
   "nbconvert_exporter": "python",
   "pygments_lexer": "ipython3",
   "version": "3.8.8"
  }
 },
 "nbformat": 4,
 "nbformat_minor": 5
}
